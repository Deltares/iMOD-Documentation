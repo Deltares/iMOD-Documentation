{
 "cells": [
  {
   "cell_type": "markdown",
   "id": "d5832884",
   "metadata": {
    "lines_to_next_cell": 0
   },
   "source": [
    "\n",
    "<img width=\"200\" src=\"data:image/png;base64,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\"/>"
   ]
  },
  {
   "cell_type": "markdown",
   "id": "8642d09f",
   "metadata": {},
   "source": [
    "\n",
    "In this example, we'll work with an unstructured grid. We'll create a very\n",
    "simple unstructured model of the Netherlands from scratch. We'll use a digital\n",
    "elevation model (DEM) to set as drain level to simulate overland flow.\n",
    "To this we add constant recharge.\n"
   ]
  },
  {
   "cell_type": "markdown",
   "id": "aaac0739",
   "metadata": {},
   "source": [
    "Let's start with importing the required packages. \n",
    "These are [iMOD Python](https://deltares.github.io/imod-python/), [xarray](https://xarray.dev/), and [xugrid](https://deltares.github.io/xugrid/)."
   ]
  },
  {
   "cell_type": "code",
   "execution_count": null,
   "id": "e355ae15",
   "metadata": {
    "title": "Imports"
   },
   "outputs": [],
   "source": [
    "import imod\n",
    "import xarray as xr\n",
    "import xugrid as xu\n"
   ]
  },
  {
   "cell_type": "markdown",
   "id": "3c566e5d",
   "metadata": {},
   "source": [
    "# Load the data\n",
    "\n",
    "This data is distributed with the xugrid package. \n",
    "You need an internet connection to download the data."
   ]
  },
  {
   "cell_type": "code",
   "execution_count": null,
   "id": "723aa3af",
   "metadata": {
    "title": "Get data"
   },
   "outputs": [],
   "source": [
    "\n",
    "elevation = xu.data.elevation_nl()\n",
    "\n",
    "elevation "
   ]
  },
  {
   "cell_type": "markdown",
   "id": "6452020c",
   "metadata": {},
   "source": [
    "Let's plot the data"
   ]
  },
  {
   "cell_type": "code",
   "execution_count": null,
   "id": "9ce610fc",
   "metadata": {
    "title": "Plot"
   },
   "outputs": [],
   "source": [
    "elevation.ugrid.plot(vmin=-20, vmax=90, cmap=\"terrain\")"
   ]
  },
  {
   "cell_type": "markdown",
   "id": "a55c26fa",
   "metadata": {},
   "source": [
    "# Template grid\n",
    "It is convenient to create a *template* grid, which has the right shape,\n",
    "dimensions, and coordinates. This can be used to construct DataArrays for\n",
    "different variables.\n",
    "\n",
    "We'll start off with creating a ``layer`` DataArray, which is a 1D DataArray,\n",
    "containing all layer information required.\n"
   ]
  },
  {
   "cell_type": "code",
   "execution_count": null,
   "id": "921084ac",
   "metadata": {
    "title": "Setup"
   },
   "outputs": [],
   "source": [
    "layer = xr.DataArray(data=[1], coords={\"layer\": [1]}, dims=(\"layer\",))\n",
    "\n",
    "layer"
   ]
  },
  {
   "cell_type": "markdown",
   "id": "4b9f242e",
   "metadata": {
    "lines_to_next_cell": 0
   },
   "source": [
    "Next, we'll create a 2D planar template grid. The xarray function ``.ones_like`` returns a new object of ones with the same shape and type as a given dataarray or dataset."
   ]
  },
  {
   "cell_type": "code",
   "execution_count": null,
   "id": "513af44e",
   "metadata": {},
   "outputs": [],
   "source": [
    "template_2d = imod.typing.grid.ones_like(elevation, dtype=int)\n",
    "\n",
    "template_2d"
   ]
  },
  {
   "cell_type": "markdown",
   "id": "42ef547d",
   "metadata": {
    "lines_to_next_cell": 0
   },
   "source": [
    "Finally, we'll create our unstructured template 3D grid.\n",
    "\n",
    "\n",
    "We'll multiply our template 2d grid with the ``layer`` template to construct the\n",
    "full 3D grid. Pay attention to the dimension order, iMOD Python is very specific\n",
    "about this. We'll put the dimensions in the right order immediately, to save\n",
    "ourselves headaches later.\n"
   ]
  },
  {
   "cell_type": "code",
   "execution_count": null,
   "id": "a404fe0d",
   "metadata": {},
   "outputs": [],
   "source": [
    "# iMOD Python requires the layer dimension first, faces dimension second\n",
    "template = (template_2d * layer).transpose(\"layer\", \"mesh2d_nFaces\")\n",
    "# plot\n",
    "template.sel(layer=1).ugrid.plot(vmin=0, vmax=2, cmap=\"viridis\")"
   ]
  },
  {
   "cell_type": "markdown",
   "id": "431b28b1",
   "metadata": {},
   "source": [
    "# Drainage\n",
    "\n",
    "We can now use the template grid to transform the 2D elevation grid to a 3D\n",
    "elevation grid, required for the drainage package.\n"
   ]
  },
  {
   "cell_type": "code",
   "execution_count": null,
   "id": "2d19859b",
   "metadata": {},
   "outputs": [],
   "source": [
    "# Drain info\n",
    "drainage_lvl = template * elevation  # requires layer dimension\n",
    "# plot\n",
    "drainage_lvl.sel(layer=1).ugrid.plot(vmin=-5, vmax=40, cmap=\"viridis\")"
   ]
  },
  {
   "cell_type": "markdown",
   "id": "8db9983a",
   "metadata": {
    "lines_to_next_cell": 0
   },
   "source": [
    "Compute conductance. The function ``.ugrid.grid.area`` yields a numpy array with for each unstructured element its area (m2).\n",
    "Multiplied with the unstructured grid with value 1 yiels grid with area. "
   ]
  },
  {
   "cell_type": "code",
   "execution_count": null,
   "id": "964ae85a",
   "metadata": {},
   "outputs": [],
   "source": [
    "cell_area = template * template.ugrid.grid.area # [m2]\n",
    "resistance = 1  # [d]\n",
    "conductance = cell_area / resistance # [m2/d]\n",
    "# Plot\n",
    "conductance.sel(layer=1).ugrid.plot()"
   ]
  },
  {
   "cell_type": "markdown",
   "id": "d3c241aa",
   "metadata": {},
   "source": [
    "# Discretization\n",
    "\n",
    "Prepare our model discretization. ``idomain`` specifies whether a call is active\n",
    "[1], inactive [0], or vertical pass through [-1]. In this case we'll go for a\n",
    "grid that is active everywhere.\n"
   ]
  },
  {
   "cell_type": "code",
   "execution_count": null,
   "id": "fc2cdbb9",
   "metadata": {
    "lines_to_next_cell": 0
   },
   "outputs": [],
   "source": [
    "\n",
    "idomain = template.copy()"
   ]
  },
  {
   "cell_type": "markdown",
   "id": "83d0d8f1",
   "metadata": {},
   "source": [
    "We'll also define the bottom of the model. To keep things simple, we'll subtract\n",
    "300 from the drainage level, which will also be our top. In this way, we'll\n",
    "construct a model with thickness 300 everywhere.\n"
   ]
  },
  {
   "cell_type": "code",
   "execution_count": null,
   "id": "fa9d186d",
   "metadata": {},
   "outputs": [],
   "source": [
    "bottom = drainage_lvl - 300.0\n",
    "# Plot\n",
    "bottom.sel(layer=1).ugrid.plot()"
   ]
  },
  {
   "cell_type": "markdown",
   "id": "da3ca424",
   "metadata": {},
   "source": [
    "# Recharge\n",
    "\n",
    "Let's prepare our recharge. Note that Modflow 6 requires consistent length\n",
    "units, so we have to provide recharge in m/d instead of mm/d!\n"
   ]
  },
  {
   "cell_type": "code",
   "execution_count": null,
   "id": "180d1028",
   "metadata": {},
   "outputs": [],
   "source": [
    "# Define recharge\n",
    "recharge_rate = template * 0.002\n",
    "# Plot\n",
    "recharge_rate.sel(layer=1).ugrid.plot()"
   ]
  },
  {
   "cell_type": "markdown",
   "id": "ab3d2c8b",
   "metadata": {
    "lines_to_next_cell": 0
   },
   "source": [
    "# Construct simulation\n",
    "\n",
    "Initialization of the main MODFLOW 6 object. We give it a name. "
   ]
  },
  {
   "cell_type": "code",
   "execution_count": null,
   "id": "e6b2d934",
   "metadata": {
    "lines_to_next_cell": 0
   },
   "outputs": [],
   "source": [
    "simulation = imod.mf6.Modflow6Simulation(\"nl_elevation\")"
   ]
  },
  {
   "cell_type": "markdown",
   "id": "07284ac9",
   "metadata": {
    "lines_to_next_cell": 0
   },
   "source": [
    "Within a ``Modflow6Simulation`` object one or more models can be defined. In this example there is just one ground water flow model. <br> In the next cells we will assemble our groundwater model in the object \"gwf_model\". Further down, we add it to the object \"simulation\". <br> \n",
    "\n",
    "In the next cell we define that option *newton* is chosen.  \n"
   ]
  },
  {
   "cell_type": "code",
   "execution_count": null,
   "id": "2ddb85b7",
   "metadata": {},
   "outputs": [],
   "source": [
    "gwf_model = imod.mf6.GroundwaterFlowModel(newton=True)"
   ]
  },
  {
   "cell_type": "markdown",
   "id": "4384f3a1",
   "metadata": {
    "lines_to_next_cell": 0
   },
   "source": [
    "The DIS package with vertices discretization needs input on tops, bottom and idomain."
   ]
  },
  {
   "cell_type": "code",
   "execution_count": null,
   "id": "164047cd",
   "metadata": {
    "lines_to_next_cell": 0
   },
   "outputs": [],
   "source": [
    "gwf_model[\"dis\"] = imod.mf6.VerticesDiscretization(\n",
    "    top=elevation, idomain=idomain, bottom=bottom\n",
    ")"
   ]
  },
  {
   "cell_type": "markdown",
   "id": "81201ed7",
   "metadata": {
    "lines_to_next_cell": 0
   },
   "source": [
    "Assign storage package:"
   ]
  },
  {
   "cell_type": "code",
   "execution_count": null,
   "id": "c4551ce4",
   "metadata": {},
   "outputs": [],
   "source": [
    "gwf_model[\"sto\"] = imod.mf6.SpecificStorage(\n",
    "    specific_storage=1e-5, specific_yield=0.01, transient=False, convertible=1\n",
    ")"
   ]
  },
  {
   "cell_type": "markdown",
   "id": "c0452a2c",
   "metadata": {},
   "source": [
    "Assign initial conditions, we'll set them equal to drainage level."
   ]
  },
  {
   "cell_type": "code",
   "execution_count": null,
   "id": "d0de0d13",
   "metadata": {},
   "outputs": [],
   "source": [
    "gwf_model[\"ic\"] = imod.mf6.InitialConditions(start=drainage_lvl)"
   ]
  },
  {
   "cell_type": "markdown",
   "id": "cf5a4052",
   "metadata": {},
   "source": [
    "The Node Property Flow is most noteworthy where we specify the hydraulic\n",
    "conductivities. For a simple homogeneous, isotropic medium of 10 m/d:\n"
   ]
  },
  {
   "cell_type": "code",
   "execution_count": null,
   "id": "c134328b",
   "metadata": {},
   "outputs": [],
   "source": [
    "gwf_model[\"npf\"] = imod.mf6.NodePropertyFlow(icelltype=1, k=10.0, k33=10.0)"
   ]
  },
  {
   "cell_type": "markdown",
   "id": "b08d8a1f",
   "metadata": {},
   "source": [
    "Assign recharge package:"
   ]
  },
  {
   "cell_type": "code",
   "execution_count": null,
   "id": "81c1cb21",
   "metadata": {
    "lines_to_next_cell": 0
   },
   "outputs": [],
   "source": [
    "gwf_model[\"rch\"] = imod.mf6.Recharge(rate=recharge_rate)"
   ]
  },
  {
   "cell_type": "markdown",
   "id": "421a84c2",
   "metadata": {},
   "source": [
    "Assign drainage package:"
   ]
  },
  {
   "cell_type": "code",
   "execution_count": null,
   "id": "090c4e91",
   "metadata": {},
   "outputs": [],
   "source": [
    "gwf_model[\"drn\"] = imod.mf6.Drainage(elevation=drainage_lvl, conductance=conductance)"
   ]
  },
  {
   "cell_type": "code",
   "execution_count": null,
   "id": "15594f1d",
   "metadata": {},
   "outputs": [],
   "source": [
    "gwf_model[\"oc\"] = imod.mf6.OutputControl(save_head=\"last\", save_budget=\"last\")"
   ]
  },
  {
   "cell_type": "markdown",
   "id": "9c1f058c",
   "metadata": {
    "lines_to_next_cell": 0
   },
   "source": [
    "Now the ground water model object 'gwf_model' is ready. <br>\n",
    "Let's add this model to the MODFLOW 6 simulation object. "
   ]
  },
  {
   "cell_type": "code",
   "execution_count": null,
   "id": "8520dda8",
   "metadata": {},
   "outputs": [],
   "source": [
    "simulation[\"gwf\"] = gwf_model"
   ]
  },
  {
   "cell_type": "markdown",
   "id": "93388969",
   "metadata": {},
   "source": [
    "The final things we have to define are specifying a solver settings and time discretization to the Modflow 6 simulation."
   ]
  },
  {
   "cell_type": "code",
   "execution_count": null,
   "id": "29f668df",
   "metadata": {},
   "outputs": [],
   "source": [
    "simulation[\"solver\"] = imod.mf6.SolutionPresetModerate(modelnames=[\"gwf\"])"
   ]
  },
  {
   "cell_type": "code",
   "execution_count": null,
   "id": "a495f28b",
   "metadata": {
    "title": "define the time discretization"
   },
   "outputs": [],
   "source": [
    "simulation.create_time_discretization(additional_times=[\"2000-01-01\", \"2001-01-01\"])"
   ]
  },
  {
   "cell_type": "markdown",
   "id": "ba5267c5",
   "metadata": {},
   "source": [
    "## Write model"
   ]
  },
  {
   "cell_type": "code",
   "execution_count": null,
   "id": "1b468814",
   "metadata": {
    "title": "Write the MODFLOW 6 input files."
   },
   "outputs": [],
   "source": [
    "tmpdir = imod.util.temporary_directory()\n",
    "\n",
    "modeldir = tmpdir / \"reference\"\n",
    "simulation.write(modeldir)"
   ]
  },
  {
   "cell_type": "markdown",
   "id": "91e90997",
   "metadata": {},
   "source": [
    "Now run our simulation:"
   ]
  },
  {
   "cell_type": "code",
   "execution_count": null,
   "id": "aaea726e",
   "metadata": {
    "title": "Run the model"
   },
   "outputs": [],
   "source": [
    "# mf6_path = \"path/to/mf6.exe\" \n",
    "\n",
    "# If you installed Modflow6 in your PATH environment variable, you can use the\n",
    "# following argument:\n",
    "mf6_path = \"mf6\"\n",
    "\n",
    "simulation.run(mf6_path)"
   ]
  },
  {
   "cell_type": "markdown",
   "id": "e8a227f4",
   "metadata": {},
   "source": [
    "Let's look at the results:"
   ]
  },
  {
   "cell_type": "code",
   "execution_count": null,
   "id": "b033c076",
   "metadata": {
    "lines_to_next_cell": 0,
    "title": "Open the calculated heads"
   },
   "outputs": [],
   "source": [
    "head = simulation.open_head().load().isel(time=-1, layer=0)\n",
    "# calculate ground water below surface level.\n",
    "groundwater_depth = elevation - head\n",
    "# Plot\n",
    "groundwater_depth.ugrid.plot()"
   ]
  },
  {
   "cell_type": "markdown",
   "id": "4a026b57",
   "metadata": {},
   "source": [
    "iMOD Python also supports partitioning a simulation, for parallel computation.\n",
    "It offers convenience functions to split existing simulations.\n",
    "For this we require a label array first."
   ]
  },
  {
   "cell_type": "code",
   "execution_count": null,
   "id": "3030c51f",
   "metadata": {
    "title": "Split model into 4 partitions"
   },
   "outputs": [],
   "source": [
    "from imod.mf6.utilities.partition_generator import get_label_array\n",
    "\n",
    "label_array = get_label_array(simulation, npartitions=4)\n",
    "\n",
    "label_array.ugrid.plot()"
   ]
  },
  {
   "cell_type": "markdown",
   "id": "4561f39e",
   "metadata": {},
   "source": [
    "Let's split our simulation with the label array."
   ]
  },
  {
   "cell_type": "code",
   "execution_count": null,
   "id": "cc6718da",
   "metadata": {},
   "outputs": [],
   "source": [
    "simulation_split = simulation.split(label_array)"
   ]
  },
  {
   "cell_type": "markdown",
   "id": "2e428b2c",
   "metadata": {},
   "source": [
    "Now write the split simulation and run it"
   ]
  },
  {
   "cell_type": "code",
   "execution_count": null,
   "id": "a4bc431e",
   "metadata": {
    "title": "Run model"
   },
   "outputs": [],
   "source": [
    "modeldir = tmpdir / \"partitioned\"\n",
    "simulation_split.write(modeldir)\n",
    "simulation_split.run(mf6_path)"
   ]
  },
  {
   "cell_type": "markdown",
   "id": "334e9b8f",
   "metadata": {},
   "source": [
    "And plot the results. Note that iMOD Python takes care of merging the 4\n",
    "partitioned models into one single head grid.\n"
   ]
  },
  {
   "cell_type": "code",
   "execution_count": null,
   "id": "e7c21ebc",
   "metadata": {
    "title": "Merge outputs using open_head method"
   },
   "outputs": [],
   "source": [
    "head_merged = simulation_split.open_head()[\"head\"].isel(time=-1, layer=0)\n",
    "# plot\n",
    "head_merged.ugrid.plot(vmin=-20, vmax=90)"
   ]
  },
  {
   "cell_type": "code",
   "execution_count": null,
   "id": "89ad487a",
   "metadata": {},
   "outputs": [],
   "source": []
  }
 ],
 "metadata": {
  "jupytext": {
   "cell_metadata_filter": "title,-all",
   "main_language": "python",
   "notebook_metadata_filter": "-all"
  },
  "language_info": {
   "name": "python"
  }
 },
 "nbformat": 4,
 "nbformat_minor": 5
}
